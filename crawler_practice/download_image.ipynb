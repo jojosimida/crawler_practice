{
 "cells": [
  {
   "cell_type": "code",
   "execution_count": 1,
   "metadata": {
    "collapsed": true
   },
   "outputs": [],
   "source": [
    "import requests \n",
    "from bs4 import BeautifulSoup \n",
    "from urllib.request import build_opener\n",
    "from urllib.request import install_opener\n",
    "from urllib.request import urlretrieve"
   ]
  },
  {
   "cell_type": "code",
   "execution_count": 2,
   "metadata": {
    "collapsed": true
   },
   "outputs": [],
   "source": [
    "a = \"https://gushi.tw/hu-shih-memorial-hall/\"\n",
    "response = requests.get(a)\n",
    "soup = BeautifulSoup(response.text,\"lxml\")"
   ]
  },
  {
   "cell_type": "code",
   "execution_count": 3,
   "metadata": {},
   "outputs": [
    {
     "name": "stdout",
     "output_type": "stream",
     "text": [
      "<img alt=\"logo\" class=\"img-responsive\" height=\"1\" src=\"http://gushi.tw/wp-content/uploads/2016/08/logo.png\" width=\"1\"/>\n",
      "\n",
      "http://gushi.tw/wp-content/uploads/2016/08/logo.png\n"
     ]
    }
   ],
   "source": [
    "img = soup.find('img')\n",
    "\n",
    "print(img.prettify())\n",
    "print(img[\"src\"])\n",
    "img_url = img[\"src\"]"
   ]
  },
  {
   "cell_type": "code",
   "execution_count": 4,
   "metadata": {
    "collapsed": true
   },
   "outputs": [],
   "source": [
    "def check_percentage(chunk,size,remote):\n",
    "    percent = 100.0 * chunk * size / remote\n",
    "    if percent > 100.0:\n",
    "        percent = 100.0\n",
    "        \n",
    "    print(\"Download...{:.2f}%\".format(percent))"
   ]
  },
  {
   "cell_type": "code",
   "execution_count": 6,
   "metadata": {},
   "outputs": [
    {
     "name": "stdout",
     "output_type": "stream",
     "text": [
      "Download...0.00%\n",
      "Download...100.00%\n"
     ]
    },
    {
     "data": {
      "text/plain": [
       "('picture.png', <http.client.HTTPMessage at 0x2783204a0f0>)"
      ]
     },
     "execution_count": 6,
     "metadata": {},
     "output_type": "execute_result"
    }
   ],
   "source": [
    "# 存取被拒絕使用 user_agent\n",
    "opener = build_opener()\n",
    "opener.addheaders = \\\n",
    "[('User-Agent',\"Mozilla/5.0 (Windows NT 10.0; Win64; x64) AppleWebKit/537.36 (KHTML, like Gecko) Chrome/60.0.3112.113 Safari/537.36\")]\n",
    "\n",
    "install_opener(opener)\n",
    "urlretrieve(img[\"src\"],\"picture.png\",check_percentage)"
   ]
  },
  {
   "cell_type": "code",
   "execution_count": null,
   "metadata": {
    "collapsed": true
   },
   "outputs": [],
   "source": []
  }
 ],
 "metadata": {
  "kernelspec": {
   "display_name": "Python 3",
   "language": "python",
   "name": "python3"
  },
  "language_info": {
   "codemirror_mode": {
    "name": "ipython",
    "version": 3
   },
   "file_extension": ".py",
   "mimetype": "text/x-python",
   "name": "python",
   "nbconvert_exporter": "python",
   "pygments_lexer": "ipython3",
   "version": "3.6.0"
  }
 },
 "nbformat": 4,
 "nbformat_minor": 2
}
