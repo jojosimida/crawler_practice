{
 "cells": [
  {
   "cell_type": "code",
   "execution_count": 38,
   "metadata": {
    "collapsed": true
   },
   "outputs": [],
   "source": [
    "import requests \n",
    "from bs4 import BeautifulSoup \n",
    "import re\n",
    "import pandas as pd"
   ]
  },
  {
   "cell_type": "code",
   "execution_count": 39,
   "metadata": {
    "collapsed": true
   },
   "outputs": [],
   "source": [
    "a = \"http://yp.518.com.tw/service-life.html?ctf=10\"\n",
    "\n",
    "response = requests.post(a) \n",
    "\n",
    "# 用 BS4 解析 HTML 並把結果回傳 soup \n",
    "soup = BeautifulSoup(response.text, \"lxml\") "
   ]
  },
  {
   "cell_type": "code",
   "execution_count": 40,
   "metadata": {},
   "outputs": [
    {
     "name": "stdout",
     "output_type": "stream",
     "text": [
      "['新北市 / 永和區 永亨路49號', '桃園縣 / 龍潭鄉 龍元路33號', '台中市 / 北區 進德北路38號', '台南市 / 東區 育樂街17號', '嘉義市 / 西區 仁愛路449號', '高雄市 / 湖內區 忠孝街130巷139號', '高雄市 / 楠梓區 德賢路471號', '新北市 / 板橋區 僑中一街124巷62-20號', '新北市 / 板橋區 僑中一街124巷62-20號', '新北市 / 板橋區 國光路39號']\n",
      "['藍柚小廚 / 電話：02-29242789', '果蔗新鮮 / 電話：03-4709933', '沁采美食館 / 電話：04-23601719', '御私藏鮮奶茶專賣 / 電話：06-2092929', '天沅茶舖 / 電話：05-2238686', '板塊企業有限公司 / 電話：07-6994433', '多那之咖啡蛋糕烘焙-德賢店 / 電話：07-3610768', '旺朔食品企業社 / 電話：02-29662939', '旺朔食品企業社 / 電話：02-29662939', '大庭牛肉麵 / 電話：02-29609370']\n",
      "['02-29242789', '03-4709933', '04-23601719', '06-2092929', '05-2238686', '07-6994433', '07-3610768', '02-29662939', '02-29662939', '02-29609370']\n",
      "['藍柚小廚', '果蔗新鮮', '沁采美食館', '御私藏鮮奶茶專賣', '天沅茶舖', '板塊企業有限公司', '多那之咖啡蛋糕烘焙-德賢店', '旺朔食品企業社', '旺朔食品企業社', '大庭牛肉麵']\n"
     ]
    }
   ],
   "source": [
    "name_phone = [i.text for i in soup.find_all(\"li\",class_=\"comp_tel\")]\n",
    "address = [i.text for i in soup.find_all(\"\", class_=\"comp_loca\")]\n",
    "\n",
    "\n",
    "print(address)\n",
    "print(name_phone)\n",
    "\n",
    "name_phone_str = \"\".join(name_phone)\n",
    "phone = re.findall(\"[0-9]{2}-[0-9]+\",name_phone_str)\n",
    "name = [i.split(\"/\")[0].strip() for i in name_phone]\n",
    "# 因為split只能處理str，所以利用 for逐一處理\n",
    "# 然後使用split分割字串，而split分割完會是list，取第一項\n",
    "# strip()用法為 Return a copy of the string with the leading and trailing characters removed.\n",
    "# 預設為空白字元,ex '   spacious   '.strip()  , 'spacious'\n",
    "\n",
    "print(phone)\n",
    "print(name)\n",
    "\n"
   ]
  },
  {
   "cell_type": "code",
   "execution_count": 42,
   "metadata": {},
   "outputs": [
    {
     "data": {
      "text/html": [
       "<div>\n",
       "<style>\n",
       "    .dataframe thead tr:only-child th {\n",
       "        text-align: right;\n",
       "    }\n",
       "\n",
       "    .dataframe thead th {\n",
       "        text-align: left;\n",
       "    }\n",
       "\n",
       "    .dataframe tbody tr th {\n",
       "        vertical-align: top;\n",
       "    }\n",
       "</style>\n",
       "<table border=\"1\" class=\"dataframe\">\n",
       "  <thead>\n",
       "    <tr style=\"text-align: right;\">\n",
       "      <th></th>\n",
       "      <th>店家</th>\n",
       "      <th>地址</th>\n",
       "      <th>電話</th>\n",
       "    </tr>\n",
       "  </thead>\n",
       "  <tbody>\n",
       "    <tr>\n",
       "      <th>0</th>\n",
       "      <td>藍柚小廚</td>\n",
       "      <td>新北市 / 永和區 永亨路49號</td>\n",
       "      <td>02-29242789</td>\n",
       "    </tr>\n",
       "    <tr>\n",
       "      <th>1</th>\n",
       "      <td>果蔗新鮮</td>\n",
       "      <td>桃園縣 / 龍潭鄉 龍元路33號</td>\n",
       "      <td>03-4709933</td>\n",
       "    </tr>\n",
       "    <tr>\n",
       "      <th>2</th>\n",
       "      <td>沁采美食館</td>\n",
       "      <td>台中市 / 北區 進德北路38號</td>\n",
       "      <td>04-23601719</td>\n",
       "    </tr>\n",
       "    <tr>\n",
       "      <th>3</th>\n",
       "      <td>御私藏鮮奶茶專賣</td>\n",
       "      <td>台南市 / 東區 育樂街17號</td>\n",
       "      <td>06-2092929</td>\n",
       "    </tr>\n",
       "    <tr>\n",
       "      <th>4</th>\n",
       "      <td>天沅茶舖</td>\n",
       "      <td>嘉義市 / 西區 仁愛路449號</td>\n",
       "      <td>05-2238686</td>\n",
       "    </tr>\n",
       "    <tr>\n",
       "      <th>5</th>\n",
       "      <td>板塊企業有限公司</td>\n",
       "      <td>高雄市 / 湖內區 忠孝街130巷139號</td>\n",
       "      <td>07-6994433</td>\n",
       "    </tr>\n",
       "    <tr>\n",
       "      <th>6</th>\n",
       "      <td>多那之咖啡蛋糕烘焙-德賢店</td>\n",
       "      <td>高雄市 / 楠梓區 德賢路471號</td>\n",
       "      <td>07-3610768</td>\n",
       "    </tr>\n",
       "    <tr>\n",
       "      <th>7</th>\n",
       "      <td>旺朔食品企業社</td>\n",
       "      <td>新北市 / 板橋區 僑中一街124巷62-20號</td>\n",
       "      <td>02-29662939</td>\n",
       "    </tr>\n",
       "    <tr>\n",
       "      <th>8</th>\n",
       "      <td>旺朔食品企業社</td>\n",
       "      <td>新北市 / 板橋區 僑中一街124巷62-20號</td>\n",
       "      <td>02-29662939</td>\n",
       "    </tr>\n",
       "    <tr>\n",
       "      <th>9</th>\n",
       "      <td>大庭牛肉麵</td>\n",
       "      <td>新北市 / 板橋區 國光路39號</td>\n",
       "      <td>02-29609370</td>\n",
       "    </tr>\n",
       "  </tbody>\n",
       "</table>\n",
       "</div>"
      ],
      "text/plain": [
       "              店家                        地址           電話\n",
       "0           藍柚小廚          新北市 / 永和區 永亨路49號  02-29242789\n",
       "1           果蔗新鮮          桃園縣 / 龍潭鄉 龍元路33號   03-4709933\n",
       "2          沁采美食館          台中市 / 北區 進德北路38號  04-23601719\n",
       "3       御私藏鮮奶茶專賣           台南市 / 東區 育樂街17號   06-2092929\n",
       "4           天沅茶舖          嘉義市 / 西區 仁愛路449號   05-2238686\n",
       "5       板塊企業有限公司     高雄市 / 湖內區 忠孝街130巷139號   07-6994433\n",
       "6  多那之咖啡蛋糕烘焙-德賢店         高雄市 / 楠梓區 德賢路471號   07-3610768\n",
       "7        旺朔食品企業社  新北市 / 板橋區 僑中一街124巷62-20號  02-29662939\n",
       "8        旺朔食品企業社  新北市 / 板橋區 僑中一街124巷62-20號  02-29662939\n",
       "9          大庭牛肉麵          新北市 / 板橋區 國光路39號  02-29609370"
      ]
     },
     "execution_count": 42,
     "metadata": {},
     "output_type": "execute_result"
    }
   ],
   "source": [
    "shop_df = pd.DataFrame(\n",
    "\t{\"店家\":name,\n",
    "\t \"地址\":address,\n",
    "\t \"電話\":phone,\n",
    "\t}, columns = [\"店家\",\"地址\",\"電話\"])\n",
    "\n",
    "shop_df"
   ]
  },
  {
   "cell_type": "code",
   "execution_count": null,
   "metadata": {
    "collapsed": true
   },
   "outputs": [],
   "source": []
  }
 ],
 "metadata": {
  "kernelspec": {
   "display_name": "Python 3",
   "language": "python",
   "name": "python3"
  },
  "language_info": {
   "codemirror_mode": {
    "name": "ipython",
    "version": 3
   },
   "file_extension": ".py",
   "mimetype": "text/x-python",
   "name": "python",
   "nbconvert_exporter": "python",
   "pygments_lexer": "ipython3",
   "version": "3.6.0"
  }
 },
 "nbformat": 4,
 "nbformat_minor": 2
}
