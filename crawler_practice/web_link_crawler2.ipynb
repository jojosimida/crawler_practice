{
 "cells": [
  {
   "cell_type": "code",
   "execution_count": 1,
   "metadata": {
    "collapsed": true
   },
   "outputs": [],
   "source": [
    "import requests\n",
    "from bs4 import BeautifulSoup \n",
    "from urllib.parse import urljoin"
   ]
  },
  {
   "cell_type": "code",
   "execution_count": 11,
   "metadata": {},
   "outputs": [
    {
     "name": "stdout",
     "output_type": "stream",
     "text": [
      "Current url: https://afuntw.github.io/demo-crawling/demo-page/ex2/index1.html\n",
      "h1 tag: ['頁面 1 - Home']\n",
      "Wait url: ['https://afuntw.github.io/demo-crawling/demo-page/ex2/index2.html', 'https://afuntw.github.io/demo-crawling/demo-page/ex2/index3.html']\n",
      "Viewed url: ['https://afuntw.github.io/demo-crawling/demo-page/ex2/index1.html']\n",
      "\n",
      "Current url: https://afuntw.github.io/demo-crawling/demo-page/ex2/index2.html\n",
      "h1 tag: ['頁面 1 - Home', '頁面 2 - About']\n",
      "Wait url: ['https://afuntw.github.io/demo-crawling/demo-page/ex2/index3.html']\n",
      "Viewed url: ['https://afuntw.github.io/demo-crawling/demo-page/ex2/index1.html', 'https://afuntw.github.io/demo-crawling/demo-page/ex2/index2.html']\n",
      "\n",
      "Current url: https://afuntw.github.io/demo-crawling/demo-page/ex2/index3.html\n",
      "h1 tag: ['頁面 1 - Home', '頁面 2 - About', '頁面 3 - Contact']\n",
      "Wait url: ['https://afuntw.github.io/demo-crawling/demo-page/ex2/hidden.html']\n",
      "Viewed url: ['https://afuntw.github.io/demo-crawling/demo-page/ex2/index1.html', 'https://afuntw.github.io/demo-crawling/demo-page/ex2/index2.html', 'https://afuntw.github.io/demo-crawling/demo-page/ex2/index3.html']\n",
      "\n",
      "Current url: https://afuntw.github.io/demo-crawling/demo-page/ex2/hidden.html\n",
      "h1 tag: ['頁面 1 - Home', '頁面 2 - About', '頁面 3 - Contact', '頁面 4 - Hidden page']\n",
      "Wait url: []\n",
      "Viewed url: ['https://afuntw.github.io/demo-crawling/demo-page/ex2/index1.html', 'https://afuntw.github.io/demo-crawling/demo-page/ex2/index2.html', 'https://afuntw.github.io/demo-crawling/demo-page/ex2/index3.html', 'https://afuntw.github.io/demo-crawling/demo-page/ex2/hidden.html']\n",
      "\n"
     ]
    }
   ],
   "source": [
    "wait_url = [\"https://afuntw.github.io/demo-crawling/demo-page/ex2/index1.html\"]\n",
    "viewed = []\n",
    "h1_tag = []\n",
    "raw = []\n",
    "\n",
    "while wait_url!=[]:\n",
    "    url = wait_url.pop(0)\n",
    "    \n",
    "    #將跑過的 LINK 放入\n",
    "    viewed.append(url)\n",
    "    \n",
    "    response = requests.get(url)\n",
    "    soup = BeautifulSoup(response.text,\"lxml\")\n",
    "    \n",
    "    for i in soup.find_all(\"h1\"):\n",
    "        h1_tag.append(i.text)\n",
    "        \n",
    "    #產生的是 generator，所以要先用[]刮起來，再用extend存入list中\n",
    "    raw.extend([i[\"href\"] for i in soup.find_all(\"a\",href=True)])\n",
    "\n",
    "    for i in raw:\n",
    "        \n",
    "        # 透過 urljoin 確認超連結是絕對位置\n",
    "        new_url = urljoin(url,i)\n",
    "        if new_url not in wait_url and new_url not in viewed:\n",
    "                wait_url.append(new_url)\n",
    "                \n",
    "    print(\"Current url: {}\".format(url))\n",
    "    print(\"h1 tag: {}\".format(h1_tag))\n",
    "    print(\"Wait url: {}\".format(wait_url)) \n",
    "    print(\"Viewed url: {}\".format(viewed))\n",
    "    print()\n"
   ]
  },
  {
   "cell_type": "code",
   "execution_count": null,
   "metadata": {
    "collapsed": true
   },
   "outputs": [],
   "source": []
  }
 ],
 "metadata": {
  "kernelspec": {
   "display_name": "Python 3",
   "language": "python",
   "name": "python3"
  },
  "language_info": {
   "codemirror_mode": {
    "name": "ipython",
    "version": 3
   },
   "file_extension": ".py",
   "mimetype": "text/x-python",
   "name": "python",
   "nbconvert_exporter": "python",
   "pygments_lexer": "ipython3",
   "version": "3.6.0"
  }
 },
 "nbformat": 4,
 "nbformat_minor": 2
}
