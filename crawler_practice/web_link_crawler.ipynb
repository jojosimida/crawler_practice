{
 "cells": [
  {
   "cell_type": "code",
   "execution_count": 8,
   "metadata": {
    "collapsed": true
   },
   "outputs": [],
   "source": [
    "import requests\n",
    "from bs4 import BeautifulSoup \n",
    "from urllib.parse import urljoin\n",
    "from urllib.parse import urlparse"
   ]
  },
  {
   "cell_type": "code",
   "execution_count": 15,
   "metadata": {},
   "outputs": [
    {
     "name": "stdout",
     "output_type": "stream",
     "text": [
      "Current link: https://afuntw.github.io/demo-crawling/demo-page/ex1/index1.html\n",
      "Get h1 tag : ['頁面 1 - Home']\n",
      "Wait url: ['https://afuntw.github.io/demo-crawling/demo-page/ex1/index2.html', 'https://afuntw.github.io/demo-crawling/demo-page/ex1/index3.html']\n",
      "\n",
      "Current link: https://afuntw.github.io/demo-crawling/demo-page/ex1/index2.html\n",
      "Get h1 tag : ['頁面 1 - Home', '頁面 2 - About']\n",
      "Wait url: ['https://afuntw.github.io/demo-crawling/demo-page/ex1/index3.html']\n",
      "\n",
      "Current link: https://afuntw.github.io/demo-crawling/demo-page/ex1/index3.html\n",
      "Get h1 tag : ['頁面 1 - Home', '頁面 2 - About', '頁面 3 - Contact']\n",
      "Wait url: ['https://afuntw.github.io/demo-crawling/demo-page/ex1/hidden.html']\n",
      "\n",
      "Current link: https://afuntw.github.io/demo-crawling/demo-page/ex1/hidden.html\n",
      "Get h1 tag : ['頁面 1 - Home', '頁面 2 - About', '頁面 3 - Contact', '頁面 4 - Hidden page']\n",
      "Wait url: []\n",
      "\n"
     ]
    }
   ],
   "source": [
    "wait_url = [\"https://afuntw.github.io/demo-crawling/demo-page/ex1/index1.html\"]\n",
    "h1_tag=[]\n",
    "\n",
    "while wait_url!=[]:\n",
    "    url = wait_url.pop(0)\n",
    "    reponse = requests.get(url)\n",
    "    soup = BeautifulSoup(reponse.text,\"lxml\")\n",
    "    h1 = soup.find_all(\"h1\")\n",
    "    for i in h1:\n",
    "        h1_tag.append(i.text)\n",
    "#     h1_tag.append(i.text for i in soup.find_all(\"h1\"))\n",
    "    \n",
    "    #要找 href 存在的元素\n",
    "    links = [i[\"href\"] for i in soup.find_all(\"a\",href=True)]\n",
    "    \n",
    "    for link in links:\n",
    "        wait_url.append(urljoin(response.url, link))\n",
    "    \n",
    "    print(\"Current link: {}\".format(url))\n",
    "    print(\"Get h1 tag : {}\".format(h1_tag))\n",
    "    print(\"Wait url: {}\".format(wait_url))\n",
    "    print()"
   ]
  },
  {
   "cell_type": "code",
   "execution_count": null,
   "metadata": {
    "collapsed": true
   },
   "outputs": [],
   "source": []
  }
 ],
 "metadata": {
  "kernelspec": {
   "display_name": "Python 3",
   "language": "python",
   "name": "python3"
  },
  "language_info": {
   "codemirror_mode": {
    "name": "ipython",
    "version": 3
   },
   "file_extension": ".py",
   "mimetype": "text/x-python",
   "name": "python",
   "nbconvert_exporter": "python",
   "pygments_lexer": "ipython3",
   "version": "3.6.0"
  }
 },
 "nbformat": 4,
 "nbformat_minor": 2
}
