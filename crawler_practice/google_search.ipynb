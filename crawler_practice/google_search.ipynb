{
 "cells": [
  {
   "cell_type": "code",
   "execution_count": 42,
   "metadata": {
    "collapsed": true
   },
   "outputs": [],
   "source": [
    "import os\n",
    "import sys\n",
    "from selenium import webdriver\n",
    "from selenium.webdriver.common.by import By\n",
    "from selenium.webdriver.common.keys import Keys"
   ]
  },
  {
   "cell_type": "code",
   "execution_count": 43,
   "metadata": {
    "collapsed": true
   },
   "outputs": [],
   "source": [
    "url = \"https://www.google.com.tw/\"\n",
    "# 打開 Chrome 瀏覽器\n",
    "# 找到chromedriver的路徑\n",
    "driver = webdriver.Chrome(os.path.abspath('C:/Python36/selenium/webdriver/windows/chromedriver.exe'))\n",
    "\n",
    "# 將瀏覽器視窗最大化\n",
    "driver.maximize_window()\n",
    "\n",
    "# 最大等待時間 10 s\n",
    "driver.implicitly_wait(10)\n",
    "\n",
    "# 對目標網站送 request\n",
    "driver.get(url)"
   ]
  },
  {
   "cell_type": "code",
   "execution_count": 44,
   "metadata": {},
   "outputs": [],
   "source": [
    "# 取得 google 搜尋 tag\n",
    "search_input = driver.find_element(By.ID, \"lst-ib\")"
   ]
  },
  {
   "cell_type": "code",
   "execution_count": 45,
   "metadata": {
    "collapsed": true
   },
   "outputs": [],
   "source": [
    "# 在搜尋欄位上輸入 youtube\n",
    "search_input.send_keys('youtube')"
   ]
  },
  {
   "cell_type": "code",
   "execution_count": 46,
   "metadata": {
    "collapsed": true
   },
   "outputs": [],
   "source": [
    "# 在搜尋欄位上按下 ENTER\n",
    "search_input.send_keys(Keys.ENTER)"
   ]
  },
  {
   "cell_type": "code",
   "execution_count": 47,
   "metadata": {},
   "outputs": [
    {
     "name": "stdout",
     "output_type": "stream",
     "text": [
      "================> Page0\n",
      "標題: YouTube\n",
      "連結: https://www.youtube.com/?gl=TW&hl=zh-tw\n",
      "\n",
      "標題: You Tube\n",
      "連結: https://www.youtube.com/?gl=TW&tab=w1\n",
      "\n",
      "標題: YouTube\n",
      "連結: https://www.youtube.com.tw/\n",
      "\n",
      "標題: YouTube轉MP3轉換器- 在線轉換，完全免費！\n",
      "連結: https://www.youtubeto.com/zh/\n",
      "\n",
      "標題: YouTube 下載和轉換工具- 立即下載為MP3、MP4、AVI 等格式\n",
      "連結: https://www.onlinevideoconverter.com/zh/video-converter\n",
      "\n",
      "標題: YouTube - Google Play Android 應用程式\n",
      "連結: https://play.google.com/store/apps/details?id=com.google.android.youtube&hl=zh_TW\n",
      "\n",
      "標題: YouTube - 维基百科，自由的百科全书\n",
      "連結: https://zh.wikipedia.org/zh-tw/YouTube\n",
      "\n",
      "標題: YouTube - Home | Facebook\n",
      "連結: https://www.facebook.com/youtube/\n",
      "\n",
      "================> Page1\n",
      "標題: Official YouTube Blog\n",
      "連結: https://youtube.googleblog.com/\n",
      "\n",
      "標題: YouTube HK\n",
      "連結: https://www.youtube.com.hk/\n",
      "\n",
      "標題: YouTube (@YouTube) | Twitter\n",
      "連結: https://twitter.com/youtube\n",
      "\n",
      "標題: YouTube：在App Store 上的App - iTunes - Apple\n",
      "連結: https://itunes.apple.com/tw/app/youtube/id544007664?l=zh\n",
      "\n",
      "標題: Peggo 線上將YouTube 影片錄音，下載為MP3 或MP4 等格式\n",
      "連結: https://free.com.tw/peggo/\n",
      "\n",
      "標題: Mydowndown | 下載Youtube影片- MDD\n",
      "連結: http://mydowndown.com/y2\n",
      "\n",
      "標題: Google pulls YouTube off the Amazon Echo Show - The Verge\n",
      "連結: https://www.theverge.com/2017/9/26/16371292/google-youtube-amazon-echo-show\n",
      "\n",
      "標題: YouTube | Shop by Brand | Google Merchandise Store\n",
      "連結: https://shop.googlemerchandisestore.com/Google+Redesign/Shop+by+Brand/YouTube\n",
      "\n",
      "標題: YouTube: An Insider's Guide to Climbing the Charts\n",
      "連結: https://books.google.com.tw/books?id=bRZn0jExOuYC&pg=PA196&lpg=PA196&dq=youtube&source=bl&ots=d_av6Mbi-A&sig=wbDRDAosjrUcewk0u2K2RyCAeHI&hl=zh-TW&sa=X&ved=0ahUKEwjgz-j33sXWAhVIkJQKHRHlCBg4ChDoAQhbMAg\n",
      "\n",
      "標題: YouTube For Dummies - Google 圖書結果\n",
      "連結: https://books.google.com.tw/books?id=zaiM6UCdonYC&pg=PT335&lpg=PT335&dq=youtube&source=bl&ots=7x5UYfkATQ&sig=fG_3JQqXQBETvKqq2OoW5a5_xxM&hl=zh-TW&sa=X&ved=0ahUKEwjgz-j33sXWAhVIkJQKHRHlCBg4ChDoAQhhMAk\n",
      "\n"
     ]
    }
   ],
   "source": [
    "for i in range(2):\n",
    "    print(\"================> Page{}\".format(i))\n",
    "    links = driver.find_elements(By.XPATH, '//*[@id=\"rso\"]/div[3]/div/div/div/div/h3/a  | \\\n",
    "    //*[@id=\"rso\"]/div[1]/div/div/div/div/h3/a' )\n",
    "\n",
    "    for i in links:\n",
    "        title = i.text\n",
    "        url = i.get_attribute('href')\n",
    "        print(\"標題: {}\".format(title))\n",
    "        print(\"連結: {}\".format(url))\n",
    "        print()\n",
    "    \n",
    "    # 下一頁\n",
    "    driver.find_element(By.XPATH,'//*[@id=\"pnnext\"]').click()\n",
    "        \n",
    "        "
   ]
  },
  {
   "cell_type": "code",
   "execution_count": 48,
   "metadata": {
    "collapsed": true
   },
   "outputs": [],
   "source": [
    "# 關掉瀏覽器\n",
    "driver.quit()"
   ]
  },
  {
   "cell_type": "code",
   "execution_count": null,
   "metadata": {
    "collapsed": true
   },
   "outputs": [],
   "source": []
  }
 ],
 "metadata": {
  "kernelspec": {
   "display_name": "Python 3",
   "language": "python",
   "name": "python3"
  },
  "language_info": {
   "codemirror_mode": {
    "name": "ipython",
    "version": 3
   },
   "file_extension": ".py",
   "mimetype": "text/x-python",
   "name": "python",
   "nbconvert_exporter": "python",
   "pygments_lexer": "ipython3",
   "version": "3.6.0"
  }
 },
 "nbformat": 4,
 "nbformat_minor": 2
}
