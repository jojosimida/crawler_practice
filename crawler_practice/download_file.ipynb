{
 "cells": [
  {
   "cell_type": "code",
   "execution_count": 17,
   "metadata": {
    "collapsed": true
   },
   "outputs": [],
   "source": [
    "import re\n",
    "import requests\n",
    "\n",
    "from bs4 import BeautifulSoup\n",
    "from urllib.parse import urlparse\n",
    "from urllib.parse import urljoin\n",
    "from urllib.request import urlretrieve"
   ]
  },
  {
   "cell_type": "code",
   "execution_count": 18,
   "metadata": {
    "collapsed": true
   },
   "outputs": [],
   "source": [
    "url = 'http://140.112.115.12/exam/graduate'\n",
    "response = requests.get(url)\n",
    "soup = BeautifulSoup(response.text, 'lxml')\n",
    "\n",
    "images = soup.find_all(\"img\", src=re.compile(\"application-pdf\\.png\"))\n",
    "# 取得所有 img tag 中 src 符合 application-pdf.png 片段的\n"
   ]
  },
  {
   "cell_type": "code",
   "execution_count": 19,
   "metadata": {},
   "outputs": [
    {
     "name": "stdout",
     "output_type": "stream",
     "text": [
      "original url: http://140.112.115.12/exam/graduate\n",
      "urlparse url: ParseResult(scheme='http', netloc='140.112.115.12', path='/exam/graduate', params='', query='', fragment='')\n"
     ]
    }
   ],
   "source": [
    "# 查看網頁網址的拆解片段\n",
    "print('original url: {}'.format(response.url))\n",
    "print('urlparse url: {}'.format(urlparse(response.url)))"
   ]
  },
  {
   "cell_type": "code",
   "execution_count": 20,
   "metadata": {},
   "outputs": [
    {
     "name": "stdout",
     "output_type": "stream",
     "text": [
      "original url: /exam/sites/all/modules/pubdlcnt/pubdlcnt.php?file=http://140.112.115.12/exam/sites/default/files/exam/graduate/106g/106_graduate_4.pdf&nid=5814\n",
      "urlparse url: ParseResult(scheme='', netloc='', path='/exam/sites/all/modules/pubdlcnt/pubdlcnt.php', params='', query='file=http://140.112.115.12/exam/sites/default/files/exam/graduate/106g/106_graduate_4.pdf&nid=5814', fragment='')\n"
     ]
    }
   ],
   "source": [
    "# 查看第1張圖片網址的拆解片段\n",
    "image_url = images[0].parent['href']\n",
    "print('original url: {}'.format(image_url))\n",
    "print('urlparse url: {}'.format(urlparse(image_url)))"
   ]
  },
  {
   "cell_type": "code",
   "execution_count": 21,
   "metadata": {},
   "outputs": [
    {
     "name": "stdout",
     "output_type": "stream",
     "text": [
      "http://140.112.115.12/exam/sites/all/modules/pubdlcnt/pubdlcnt.php?file=http://140.112.115.12/exam/sites/default/files/exam/graduate/106g/106_graduate_4.pdf&nid=5814\n"
     ]
    }
   ],
   "source": [
    "print(urljoin(response.url, image_url))\n",
    "# print(urljoin(response.url, '106g/'))\n",
    "# print(urljoin(response.url, '/106g/'))\n",
    "# print(urljoin(response.url, '//facebook.com'))\n",
    "# print(urljoin(response.url, '../'))\n",
    "# print(urljoin(response.url, '../../'))"
   ]
  },
  {
   "cell_type": "code",
   "execution_count": 22,
   "metadata": {
    "collapsed": true
   },
   "outputs": [],
   "source": [
    "# 顯示進度的 callback\n",
    "def check_percentage(chunk, chunk_size, remote_size):\n",
    "    percentage = 100.0 * chunk * chunk_size / remote_size\n",
    "    if percentage > 100.0:\n",
    "        percentage = 100.0\n",
    "    print('Download...{:.2f}%'.format(percentage))"
   ]
  },
  {
   "cell_type": "code",
   "execution_count": 24,
   "metadata": {},
   "outputs": [
    {
     "name": "stdout",
     "output_type": "stream",
     "text": [
      "Download file: 106_graduate_4.pdf\n",
      "Download...0.00%\n",
      "Download...35.13%\n",
      "Download...70.26%\n",
      "Download...100.00%\n",
      "Download file: 106_graduate_6.pdf\n",
      "Download...0.00%\n",
      "Download...7.22%\n",
      "Download...14.44%\n",
      "Download...21.66%\n",
      "Download...28.88%\n",
      "Download...36.10%\n",
      "Download...43.32%\n",
      "Download...50.54%\n",
      "Download...57.76%\n",
      "Download...64.98%\n",
      "Download...72.20%\n",
      "Download...79.42%\n",
      "Download...86.64%\n",
      "Download...93.86%\n",
      "Download...100.00%\n",
      "Download file: 106_graduate_3.pdf\n",
      "Download...0.00%\n",
      "Download...7.18%\n",
      "Download...14.36%\n",
      "Download...21.55%\n",
      "Download...28.73%\n",
      "Download...35.91%\n",
      "Download...43.09%\n",
      "Download...50.28%\n",
      "Download...57.46%\n",
      "Download...64.64%\n",
      "Download...71.82%\n",
      "Download...79.01%\n",
      "Download...86.19%\n",
      "Download...93.37%\n",
      "Download...100.00%\n",
      "Download file: 106_graduate_1.pdf\n",
      "Download...0.00%\n",
      "Download...20.66%\n",
      "Download...41.32%\n",
      "Download...61.99%\n",
      "Download...82.65%\n",
      "Download...100.00%\n",
      "Download file: 106_graduate_2.pdf\n",
      "Download...0.00%\n",
      "Download...18.76%\n",
      "Download...37.51%\n",
      "Download...56.27%\n",
      "Download...75.03%\n",
      "Download...93.79%\n",
      "Download...100.00%\n"
     ]
    }
   ],
   "source": [
    "for image in images[:5]:\n",
    "    # 將相對路徑轉換成絕對路徑\n",
    "    real_url = urljoin(response.url, image.parent['href'])\n",
    "\n",
    "    # 做字串處理取得檔名\n",
    "    filename = real_url.split('/')[-1]\n",
    "    filename = filename.split('&')[0]\n",
    "\n",
    "   # 下載檔案\n",
    "    print('Download file: {}'.format(filename))\n",
    "    urlretrieve(real_url, filename, check_percentage)"
   ]
  },
  {
   "cell_type": "code",
   "execution_count": null,
   "metadata": {
    "collapsed": true
   },
   "outputs": [],
   "source": []
  }
 ],
 "metadata": {
  "kernelspec": {
   "display_name": "Python 3",
   "language": "python",
   "name": "python3"
  },
  "language_info": {
   "codemirror_mode": {
    "name": "ipython",
    "version": 3
   },
   "file_extension": ".py",
   "mimetype": "text/x-python",
   "name": "python",
   "nbconvert_exporter": "python",
   "pygments_lexer": "ipython3",
   "version": "3.6.0"
  }
 },
 "nbformat": 4,
 "nbformat_minor": 2
}
