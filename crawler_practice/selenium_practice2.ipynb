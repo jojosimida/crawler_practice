{
 "cells": [
  {
   "cell_type": "code",
   "execution_count": 24,
   "metadata": {
    "collapsed": true
   },
   "outputs": [],
   "source": [
    "import os\n",
    "import sys\n",
    "from selenium import webdriver\n",
    "from selenium.webdriver.common.by import By"
   ]
  },
  {
   "cell_type": "code",
   "execution_count": 25,
   "metadata": {
    "collapsed": true
   },
   "outputs": [],
   "source": [
    "url = \"http://24h.pchome.com.tw/region/DHBE\"\n",
    "# 打開 Chrome 瀏覽器\n",
    "# 找到chromedriver的路徑\n",
    "driver = webdriver.Chrome(os.path.abspath('C:/Python36/selenium/webdriver/windows/chromedriver.exe'))\n",
    "\n",
    "# 將瀏覽器視窗最大化\n",
    "driver.maximize_window()\n",
    "\n",
    "# 對目標網站送 request\n",
    "driver.get(url)"
   ]
  },
  {
   "cell_type": "code",
   "execution_count": 26,
   "metadata": {},
   "outputs": [
    {
     "name": "stdout",
     "output_type": "stream",
     "text": [
      "商品名稱: ASUS B9440UA-0251A7200U (i5-7200/8G/256G SSD/W10P)\n",
      "商品價格: 32900\n",
      "\n",
      "商品名稱: (商)Lenovo ThinkPad T470 20HDA00STW(i5-7200U/940MX-2G/1TB/W10P)\n",
      "商品價格: 39900\n",
      "\n",
      "商品名稱: (商)HP X360 1030 G2(i7-7600U/8G*2/512GB SSD/FHD/W10Pro)\n",
      "商品價格: 68900\n",
      "\n",
      "商品名稱: (商)HP 240 G6 (i5-7200U/14/4G/500GB/Win10)\n",
      "商品價格: 18900\n",
      "\n",
      "商品名稱: DELL M7520(i7-7820HQ/Nvidia Quadro M2200M-4G/1TB+256GB/W10P/FHD)繪圖工作站筆電\n",
      "商品價格: 89990\n",
      "\n",
      "商品名稱: ASUS P2430UJ-0321A6200U (i5-6200U/4G/500G/920M-2G/Win10)\n",
      "商品價格: 22900\n",
      "\n",
      "商品名稱: (商)Lenovo ThinkPad X1c 20HRA010TW(i7-7500U/256G SSD/W10P/FHD)\n",
      "商品價格: 59900\n",
      "\n",
      "商品名稱: (商) HP Probook 430 G4(i5-7200U/4G DDR4/500GB/Win10)\n",
      "商品價格: 25900\n",
      "\n",
      "商品名稱: (商)HP 240 G6 (i5-7200U/14/4G/500GB/Win10pro)\n",
      "商品價格: 23900\n",
      "\n",
      "商品名稱: DELL M5520(i7-7820HQ/M1200M/512GB SSD/Win10 Pro/UHD)繪圖工作站筆電\n",
      "商品價格: 98990\n",
      "\n",
      "商品名稱: ASUS P2530UJ-0461A6200U (i5-6200U/8G/1TB/GeForce 920M-2G/W10P)\n",
      "商品價格: 23900\n",
      "\n",
      "商品名稱: (商)Lenovo ThinkPad T470s 20HFA00ETW(i7-7600U/512G SSD/W10P)\n",
      "商品價格: 63900\n",
      "\n",
      "商品名稱: (商)HP Probook 650 G3(i7-7600U/512GB SSD/AMD Radeon R7 M465 2GB/W10P)\n",
      "商品價格: 50900\n",
      "\n",
      "商品名稱: (商)HP 240 G6 (i3-6006U/14/UMA/500G/W10DW7)\n",
      "商品價格: 17900\n",
      "\n",
      "商品名稱: ASUS P2438U-0401A6500U (i7-6500U/8GB/500G 7200RPM/DVD-RW/WIN10PRO64/14吋HD)\n",
      "商品價格: 24900\n",
      "\n",
      "商品名稱: ASUS P2530UJ-0271A6500U (i7-6500U/8G/1TB/920M-2G/FHD/Win10P)\n",
      "商品價格: 32900\n",
      "\n",
      "商品名稱: (商)Lenovo ThinkPad Edge15 E570 20H5A037TW(i7-7500U/GTX 950M-2G/1TB/W10/FHD)\n",
      "商品價格: 34900\n",
      "\n",
      "商品名稱: ACER TravelMate TMP238-M-77JQ (i7-6500U/8GB/256GB SSD/W7P+W10P)\n",
      "商品價格: 33800\n",
      "\n",
      "商品名稱: ACER TravelMate TMX349-G2-M-53L8.(i5-7200U/8GB/256GB SSD/W10P)\n",
      "商品價格: 30500\n",
      "\n",
      "商品名稱: DELL M7520(i7-7820HQ/Nvidia Quadro M1200M-4G/1TB/W10P/FHD)繪圖工作站筆電\n",
      "商品價格: 76900\n",
      "\n",
      "商品名稱: ASUS A550V-0203J6700HQ (i7-6700HQ/500G/GTX950M 2G獨顯/W10P)\n",
      "商品價格: 28900\n",
      "\n",
      "商品名稱: (商)Lenovo ThinkPad X260 20F6A07QTW(i5-6200U/1TB/W10P)\n",
      "商品價格: 38900\n",
      "\n",
      "商品名稱: ACER TravelMate TMP249-M-C1DV.(CM3855U/4GB DDR4/500GB/W10P)\n",
      "商品價格: 14990\n",
      "\n",
      "商品名稱: ACER TravelMate TMP249-M-3142.(i3-6100U/4GB/500GB/W7P+W10P)\n",
      "商品價格: 17990\n",
      "\n",
      "商品名稱: DELL M7510(i7-6820HQ/Nvidia Quadro M1000M-2G/1TB/W7P/FHD)繪圖工作站筆電\n",
      "商品價格: 69900\n",
      "\n",
      "商品名稱: ASUS B8230UA-0061A6500U (i7-6500U/512G SSD/W7P)\n",
      "商品價格: 44900\n",
      "\n",
      "商品名稱: (商)Lenovo ThinkPad X270 20HNA00RTW (i5-7200U/1TB/W10P)\n",
      "商品價格: 41900\n",
      "\n",
      "商品名稱: ACER TravelMate TMP446-M-54S0.(i5-5200U/4GB/500G/W7P+W10P)\n",
      "商品價格: 19900\n",
      "\n",
      "商品名稱: ACER TravelMate TMP259-M-5726(i5-6200U/4GB/128GB SSD/W7P+W10P)\n",
      "商品價格: 26900\n",
      "\n",
      "商品名稱: Lenovo ThinkPad 13 20J1CTO4WW(i7-7500U/8G/256G SSD/Win10)\n",
      "商品價格: 31900\n",
      "\n"
     ]
    }
   ],
   "source": [
    "object_name = driver.find_elements(By.XPATH, '//*[@id=\"Block12Container50\"]/dd/div/h5/a')\n",
    "object_price = driver.find_elements(By.XPATH, '//*[@id=\"Block12Container50\"]/dd/div/ul/li/span/span')\n",
    "\n",
    "for i in zip(object_name, object_price):\n",
    "    \n",
    "    # 如果品名與價格有任一是空值, 則不處理\n",
    "    if i[0].text and i[1].text:\n",
    "        print(\"商品名稱: {}\".format(i[0].text))\n",
    "        print(\"商品價格: {}\".format(i[1].text))\n",
    "        print()"
   ]
  },
  {
   "cell_type": "code",
   "execution_count": 27,
   "metadata": {
    "collapsed": true
   },
   "outputs": [],
   "source": [
    "# 關掉瀏覽器\n",
    "driver.quit()"
   ]
  }
 ],
 "metadata": {
  "kernelspec": {
   "display_name": "Python 3",
   "language": "python",
   "name": "python3"
  },
  "language_info": {
   "codemirror_mode": {
    "name": "ipython",
    "version": 3
   },
   "file_extension": ".py",
   "mimetype": "text/x-python",
   "name": "python",
   "nbconvert_exporter": "python",
   "pygments_lexer": "ipython3",
   "version": "3.6.0"
  }
 },
 "nbformat": 4,
 "nbformat_minor": 2
}
